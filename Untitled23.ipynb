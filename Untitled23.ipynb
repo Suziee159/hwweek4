{
 "cells": [
  {
   "cell_type": "code",
   "execution_count": 50,
   "id": "7d66ec97",
   "metadata": {},
   "outputs": [],
   "source": [
    "import pandas as pd"
   ]
  },
  {
   "cell_type": "code",
   "execution_count": 51,
   "id": "fd2a9570",
   "metadata": {},
   "outputs": [],
   "source": [
    "df = pd.read_csv(\"titanic_data.csv\")"
   ]
  },
  {
   "cell_type": "code",
   "execution_count": 52,
   "id": "2134a411",
   "metadata": {},
   "outputs": [
    {
     "name": "stdout",
     "output_type": "stream",
     "text": [
      "  Survived Passenger Class                                             Name  \\\n",
      "0      Yes           First                    Allen, Miss. Elisabeth Walton   \n",
      "1      Yes           First                   Allison, Master. Hudson Trevor   \n",
      "2       No           First                     Allison, Miss. Helen Loraine   \n",
      "3       No           First             Allison, Mr. Hudson Joshua Creighton   \n",
      "4       No           First  Allison, Mrs. Hudson J C (Bessie Waldo Daniels)   \n",
      "\n",
      "      Sex      Age  No of Siblings or Spouses on Board  \\\n",
      "0  Female  29.0000                                 0.0   \n",
      "1    Male   0.9167                                 1.0   \n",
      "2  Female   2.0000                                 1.0   \n",
      "3    Male  30.0000                                 1.0   \n",
      "4  Female  25.0000                                 1.0   \n",
      "\n",
      "   No of Parents or Children on Board Ticket Number  Passenger Fare    Cabin  \\\n",
      "0                                 0.0         24160        211.3375       B5   \n",
      "1                                 2.0        113781        151.5500  C22 C26   \n",
      "2                                 2.0        113781        151.5500  C22 C26   \n",
      "3                                 2.0        113781        151.5500  C22 C26   \n",
      "4                                 2.0        113781        151.5500  C22 C26   \n",
      "\n",
      "  Port of Embarkation Life Boat  \n",
      "0         Southampton         2  \n",
      "1         Southampton        11  \n",
      "2         Southampton       NaN  \n",
      "3         Southampton       NaN  \n",
      "4         Southampton       NaN  \n"
     ]
    }
   ],
   "source": [
    "print(df.head())"
   ]
  },
  {
   "cell_type": "code",
   "execution_count": 53,
   "id": "ad31acb6",
   "metadata": {},
   "outputs": [
    {
     "name": "stdout",
     "output_type": "stream",
     "text": [
      "     Survived Passenger Class                       Name     Sex   Age  \\\n",
      "1305       No           Third      Zabour, Miss. Thamine  Female   NaN   \n",
      "1306       No           Third  Zakarian, Mr. Mapriededer    Male  26.5   \n",
      "1307       No           Third        Zakarian, Mr. Ortin    Male  27.0   \n",
      "1308       No           Third         Zimmerman, Mr. Leo    Male  29.0   \n",
      "1309      NaN             NaN                        NaN     NaN   NaN   \n",
      "\n",
      "      No of Siblings or Spouses on Board  No of Parents or Children on Board  \\\n",
      "1305                                 1.0                                 0.0   \n",
      "1306                                 0.0                                 0.0   \n",
      "1307                                 0.0                                 0.0   \n",
      "1308                                 0.0                                 0.0   \n",
      "1309                                 NaN                                 NaN   \n",
      "\n",
      "     Ticket Number  Passenger Fare Cabin Port of Embarkation Life Boat  \n",
      "1305          2665         14.4542   NaN           Cherbourg       NaN  \n",
      "1306          2656          7.2250   NaN           Cherbourg       NaN  \n",
      "1307          2670          7.2250   NaN           Cherbourg       NaN  \n",
      "1308        315082          7.8750   NaN         Southampton       NaN  \n",
      "1309           NaN             NaN   NaN                 NaN       NaN  \n"
     ]
    }
   ],
   "source": [
    "print(df.tail())"
   ]
  },
  {
   "cell_type": "code",
   "execution_count": 54,
   "id": "cf11542e",
   "metadata": {},
   "outputs": [
    {
     "name": "stdout",
     "output_type": "stream",
     "text": [
      "<class 'pandas.core.frame.DataFrame'>\n",
      "RangeIndex: 1310 entries, 0 to 1309\n",
      "Data columns (total 12 columns):\n",
      " #   Column                              Non-Null Count  Dtype  \n",
      "---  ------                              --------------  -----  \n",
      " 0   Survived                            1309 non-null   object \n",
      " 1   Passenger Class                     1309 non-null   object \n",
      " 2   Name                                1309 non-null   object \n",
      " 3   Sex                                 1309 non-null   object \n",
      " 4   Age                                 1046 non-null   float64\n",
      " 5   No of Siblings or Spouses on Board  1309 non-null   float64\n",
      " 6   No of Parents or Children on Board  1309 non-null   float64\n",
      " 7   Ticket Number                       1309 non-null   object \n",
      " 8   Passenger Fare                      1308 non-null   float64\n",
      " 9   Cabin                               295 non-null    object \n",
      " 10  Port of Embarkation                 1307 non-null   object \n",
      " 11  Life Boat                           486 non-null    object \n",
      "dtypes: float64(4), object(8)\n",
      "memory usage: 122.9+ KB\n",
      "None\n"
     ]
    }
   ],
   "source": [
    "print(df.info())"
   ]
  },
  {
   "cell_type": "code",
   "execution_count": 55,
   "id": "bba71cd3",
   "metadata": {},
   "outputs": [
    {
     "name": "stdout",
     "output_type": "stream",
     "text": [
      "               Age  No of Siblings or Spouses on Board  \\\n",
      "count  1046.000000                         1309.000000   \n",
      "mean     29.881135                            0.498854   \n",
      "std      14.413500                            1.041658   \n",
      "min       0.166700                            0.000000   \n",
      "25%      21.000000                            0.000000   \n",
      "50%      28.000000                            0.000000   \n",
      "75%      39.000000                            1.000000   \n",
      "max      80.000000                            8.000000   \n",
      "\n",
      "       No of Parents or Children on Board  Passenger Fare  \n",
      "count                         1309.000000     1308.000000  \n",
      "mean                             0.385027       33.295479  \n",
      "std                              0.865560       51.758668  \n",
      "min                              0.000000        0.000000  \n",
      "25%                              0.000000        7.895800  \n",
      "50%                              0.000000       14.454200  \n",
      "75%                              0.000000       31.275000  \n",
      "max                              9.000000      512.329200  \n"
     ]
    }
   ],
   "source": [
    "print(df.describe())"
   ]
  },
  {
   "cell_type": "code",
   "execution_count": 56,
   "id": "d39e8111",
   "metadata": {},
   "outputs": [
    {
     "name": "stdout",
     "output_type": "stream",
     "text": [
      "Survived                                 1\n",
      "Passenger Class                          1\n",
      "Name                                     1\n",
      "Sex                                      1\n",
      "Age                                    264\n",
      "No of Siblings or Spouses on Board       1\n",
      "No of Parents or Children on Board       1\n",
      "Ticket Number                            1\n",
      "Passenger Fare                           2\n",
      "Cabin                                 1015\n",
      "Port of Embarkation                      3\n",
      "Life Boat                              824\n",
      "dtype: int64\n"
     ]
    }
   ],
   "source": [
    "print(df.isnull().sum())"
   ]
  },
  {
   "cell_type": "code",
   "execution_count": 57,
   "id": "44e14fe3",
   "metadata": {},
   "outputs": [],
   "source": [
    "df = df.dropna()"
   ]
  },
  {
   "cell_type": "code",
   "execution_count": 58,
   "id": "64ad666d",
   "metadata": {
    "scrolled": true
   },
   "outputs": [
    {
     "name": "stdout",
     "output_type": "stream",
     "text": [
      "Survived                               object\n",
      "Passenger Class                        object\n",
      "Name                                   object\n",
      "Sex                                    object\n",
      "Age                                   float64\n",
      "No of Siblings or Spouses on Board    float64\n",
      "No of Parents or Children on Board    float64\n",
      "Ticket Number                          object\n",
      "Passenger Fare                        float64\n",
      "Cabin                                  object\n",
      "Port of Embarkation                    object\n",
      "Life Boat                              object\n",
      "dtype: object\n"
     ]
    }
   ],
   "source": [
    "print(df.dtypes)"
   ]
  },
  {
   "cell_type": "code",
   "execution_count": 59,
   "id": "297556e7",
   "metadata": {},
   "outputs": [],
   "source": [
    "df[\"Age\"] = df[\"Age\"].astype(int)"
   ]
  },
  {
   "cell_type": "code",
   "execution_count": 60,
   "id": "6b092269",
   "metadata": {},
   "outputs": [],
   "source": [
    "df = df.drop([\"Cabin\"], axis=1)"
   ]
  },
  {
   "cell_type": "code",
   "execution_count": 61,
   "id": "8a93f0ca",
   "metadata": {},
   "outputs": [],
   "source": [
    "df = df.drop_duplicates()"
   ]
  },
  {
   "cell_type": "code",
   "execution_count": 49,
   "id": "1d8f1516",
   "metadata": {},
   "outputs": [],
   "source": [
    "df.to_csv(\"titanic_cleaned.csv\", index=False)"
   ]
  },
  {
   "cell_type": "code",
   "execution_count": null,
   "id": "8c82bcb4",
   "metadata": {},
   "outputs": [],
   "source": []
  }
 ],
 "metadata": {
  "kernelspec": {
   "display_name": "Python 3 (ipykernel)",
   "language": "python",
   "name": "python3"
  },
  "language_info": {
   "codemirror_mode": {
    "name": "ipython",
    "version": 3
   },
   "file_extension": ".py",
   "mimetype": "text/x-python",
   "name": "python",
   "nbconvert_exporter": "python",
   "pygments_lexer": "ipython3",
   "version": "3.9.13"
  }
 },
 "nbformat": 4,
 "nbformat_minor": 5
}
